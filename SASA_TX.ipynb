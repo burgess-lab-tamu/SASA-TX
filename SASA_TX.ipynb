{
 "cells": [
  {
   "cell_type": "code",
   "execution_count": 1,
   "metadata": {},
   "outputs": [],
   "source": [
    "import pymol\n",
    "from pymol import cmd, stored\n",
    "import __main__\n",
    "import pandas as pd\n",
    "import sys"
   ]
  },
  {
   "cell_type": "code",
   "execution_count": 2,
   "metadata": {},
   "outputs": [],
   "source": [
    "def sasa_PDB(PDB_path, target_chain):\n",
    "    # solvent accessible area mode\n",
    "    cmd.select('all')\n",
    "    cmd.delete('all')\n",
    "    oldDS = cmd.get(\"dot_solvent\")\n",
    "    cmd.set(\"dot_solvent\", 1)\n",
    "    cmd.load(PDB_path, 'test')\n",
    "    cmd.remove('solvent')\n",
    "    cmd.remove('ino.')\n",
    "    cmd.remove('org.')\n",
    "    chains = cmd.get_chains('test')\n",
    "    atoms = cmd.get_model('c. ' + target_chain)\n",
    "    resi_id = []\n",
    "    for at in atoms.atom:\n",
    "        #print(at.resi)\n",
    "        if at.resi.isnumeric():\n",
    "            resi_id.append(int(at.resi))\n",
    "    resi_id_final = list(dict.fromkeys(resi_id))\n",
    "    # get sasa of target chain in complex\n",
    "    area_complex = []\n",
    "    for i in range(len(resi_id_final)):\n",
    "        area = cmd.get_area('test & c. ' + target_chain + ' & resi %s' % resi_id_final[i], load_b = 1)\n",
    "        area_complex.append(area)\n",
    "    cmd.extract('chA', 'test & c. ' + target_chain)\n",
    "    area_single_chain = []\n",
    "    for i in range(len(resi_id_final)):\n",
    "        area = cmd.get_area('chA & c. ' + target_chain + ' & resi %s' % resi_id_final[i], load_b = 1)\n",
    "        #print(area)\n",
    "        area_single_chain.append(area)\n",
    "    hot_spot = []\n",
    "    for i in range(len(resi_id_final)):\n",
    "        if area_single_chain[i] != 0:\n",
    "            ratio = (area_single_chain[i] - area_complex[i])/area_single_chain[i]\n",
    "            sasa = area_single_chain[i] - area_complex[i]\n",
    "            #print(ratio, resi_id_final[i])\n",
    "            if ratio > 0.4 or sasa > 50:\n",
    "                hot_spot.append([resi_id_final[i], ratio, sasa])\n",
    "    cmd.select('all')\n",
    "    cmd.delete('all')\n",
    "    cmd.set(\"dot_solvent\", oldDS)\n",
    "    return hot_spot, area_single_chain"
   ]
  },
  {
   "cell_type": "code",
   "execution_count": 3,
   "metadata": {},
   "outputs": [],
   "source": [
    "def sasa_selected_residues(PDB_path, target_chain, start_res, end_res):\n",
    "    start_res = int(start_res)\n",
    "    end_res = int(end_res)\n",
    "    # solvent accessible area mode\n",
    "    cmd.select('all')\n",
    "    cmd.delete('all')\n",
    "    oldDS = cmd.get(\"dot_solvent\")\n",
    "    cmd.set(\"dot_solvent\", 1)\n",
    "    cmd.load(PDB_path, 'test')\n",
    "    cmd.remove('solvent')\n",
    "    cmd.remove('ino.')\n",
    "    cmd.remove('org.')\n",
    "    chains = cmd.get_chains('test')\n",
    "    atoms = cmd.get_model('c. ' + target_chain)\n",
    "    resi_id = []\n",
    "    for at in atoms.atom:\n",
    "        #print(at.resi)\n",
    "        if at.resi.isnumeric():\n",
    "            resi_id.append(int(at.resi))\n",
    "    resi_id_final = list(dict.fromkeys(resi_id))\n",
    "    # get sasa of target chain in complex\n",
    "    area_complex_all = 0\n",
    "    for i in range(len(resi_id_final)):\n",
    "        area = cmd.get_area('test & c. ' + target_chain + ' & resi %s' % resi_id_final[i], load_b = 1)\n",
    "        area_complex_all += area\n",
    "    area_complex_selected_residues = 0\n",
    "    for i in range(start_res, end_res + 1):\n",
    "        area = cmd.get_area('test & c. ' + target_chain + ' & resi %s' % i, load_b = 1)\n",
    "        area_complex_selected_residues += area\n",
    "    area_complex = []\n",
    "    for i in range(start_res, end_res+1):\n",
    "        area = cmd.get_area('test & c. ' + target_chain + ' & resi %s' % i, load_b = 1)\n",
    "        area_complex.append(area)\n",
    "    cmd.extract('chA', 'test & c. ' + target_chain)\n",
    "    area_single_chain_all = 0\n",
    "    for i in range(len(resi_id_final)):\n",
    "        area = cmd.get_area('chA & c. ' + target_chain + ' & resi %s' % resi_id_final[i], load_b = 1)\n",
    "        #print(area)\n",
    "        area_single_chain_all += area\n",
    "    area_selected_residues = 0\n",
    "    for i in range(start_res, end_res+1):\n",
    "        area = cmd.get_area('chA & c. ' + target_chain + ' & resi %s' % i, load_b = 1)\n",
    "        #print(area)\n",
    "        area_selected_residues += area\n",
    "    area_single_chain = []\n",
    "    for i in range(start_res, end_res+1):\n",
    "        area = cmd.get_area('chA & c. ' + target_chain + ' & resi %s' % i, load_b = 1)\n",
    "        #print(area)\n",
    "        area_single_chain.append(area)\n",
    "    hot_spot = []\n",
    "    for i in range(len(area_complex)):\n",
    "        if area_single_chain[i] != 0:\n",
    "            ratio = (area_single_chain[i] - area_complex[i])/area_single_chain[i]\n",
    "            sasa = area_single_chain[i] - area_complex[i]\n",
    "            #print(ratio, resi_id_final[i])\n",
    "            hot_spot.append([start_res + i, ratio, sasa])\n",
    "    difference_all = area_single_chain_all - area_complex_all\n",
    "    difference_selected_residues = area_selected_residues - area_complex_selected_residues\n",
    "    statistics = [difference_selected_residues, difference_selected_residues/difference_all]\n",
    "    cmd.select('all')\n",
    "    cmd.delete('all')\n",
    "    cmd.set(\"dot_solvent\", oldDS)\n",
    "    return hot_spot, statistics"
   ]
  },
  {
   "cell_type": "code",
   "execution_count": null,
   "metadata": {},
   "outputs": [],
   "source": [
    "# input format\n",
    "hotspots,_ = sasa_selected_residues('pdb name + .pdb','chain name','start residue','end residue')\n",
    "#input pdb path + target chain \n",
    "hotspots = pd.DataFrame(hotspots)\n",
    "#save as pandas format\n",
    "hotspots.to_csv('name of output +.csv')\n",
    "#save as csv file with default name"
   ]
  },
  {
   "cell_type": "code",
   "execution_count": 4,
   "metadata": {},
   "outputs": [
    {
     "name": "stdout",
     "output_type": "stream",
     "text": [
      " PyMOL not running, entering library mode (experimental)\n"
     ]
    }
   ],
   "source": [
    "#example\n",
    "hotspots,_ = sasa_selected_residues('CDK2-cyclinE.pdb','A',42,58)\n",
    "#input pdb path + target chain \n",
    "hotspots = pd.DataFrame(hotspots)\n",
    "#save as pandas format\n",
    "hotspots.to_csv('CDK2-cycE.csv')\n",
    "#save as csv file with default name"
   ]
  },
  {
   "cell_type": "code",
   "execution_count": 5,
   "metadata": {},
   "outputs": [],
   "source": [
    "#example\n",
    "hotspots,_ = sasa_selected_residues('8bya.pdb','C',25,93)\n",
    "#input pdb path + target chain \n",
    "hotspots = pd.DataFrame(hotspots)\n",
    "#save as pandas format\n",
    "hotspots.to_csv('p27-.csv')\n",
    "#save as csv file with default name"
   ]
  }
 ],
 "metadata": {
  "kernelspec": {
   "display_name": "Python 3",
   "language": "python",
   "name": "python3"
  },
  "language_info": {
   "codemirror_mode": {
    "name": "ipython",
    "version": 3
   },
   "file_extension": ".py",
   "mimetype": "text/x-python",
   "name": "python",
   "nbconvert_exporter": "python",
   "pygments_lexer": "ipython3",
   "version": "3.7.7"
  }
 },
 "nbformat": 4,
 "nbformat_minor": 4
}
